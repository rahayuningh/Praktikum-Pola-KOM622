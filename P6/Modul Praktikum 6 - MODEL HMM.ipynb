{
 "cells": [
  {
   "cell_type": "markdown",
   "metadata": {},
   "source": [
    "### Tujuan Praktikum\n",
    "Mahasiswa mampu mengimplementasikan model HMM dengan menggunakan python. \n",
    "HMM memiliki tiga permasalahan. \n",
    "Pada praktikum kali ini dua permasalahan akan dibahas yakni: \n",
    "1. menentukan probability dari suatu obervasi dan\n",
    "2. menentukan state optimal dari suatu observasi. \n",
    "\n",
    "Adapun permasalahannya diilustrasikan pada diagram state sebagai berikut:\n",
    "\n",
    "Dari Gambar diperoleh beberapa informasi sebagai berikut:\n",
    "1. Terdapat 2 hidden state :{Rainy, Sunny}\n",
    "2. Terdapat 3 observable state :{Walk, Shop, Clean}\n",
    "3. Terdapat nilai initial probability {0.6, 0.4}\n",
    "Sebelum melakukan klasifikasi, terlebih dahulu kita melakukan instalasi library hidden markov (HMM) yaitu hmmlearn."
   ]
  },
  {
   "cell_type": "markdown",
   "metadata": {},
   "source": [
    "### 1. Mendefinisikan State"
   ]
  },
  {
   "cell_type": "code",
   "execution_count": 1,
   "metadata": {},
   "outputs": [],
   "source": [
    "# Definisi Matrik Transisi (states)\n",
    "states = ('Rainy', 'Sunny')\n",
    "# definisi Matriks Observasi / Matrik emmisi \n",
    "observations = ('walk', 'shop', 'clean')\n",
    "# definisi Matriks Priority\n",
    "start_probability = {'Rainy': 0.6, 'Sunny': 0.4}\n",
    "transition_probability = {\n",
    " 'Rainy' : {'Rainy': 0.7, 'Sunny': 0.3},\n",
    " 'Sunny' : {'Rainy': 0.4, 'Sunny': 0.6},\n",
    " }\n",
    "emission_probability = {\n",
    " 'Rainy' : {'walk': 0.1, 'shop': 0.4, 'clean': 0.5},\n",
    " 'Sunny' : {'walk': 0.6, 'shop': 0.3, 'clean': 0.1},\n",
    " }"
   ]
  },
  {
   "cell_type": "markdown",
   "metadata": {},
   "source": [
    "### 2. Instalasi library dan representasi pada matrik"
   ]
  },
  {
   "cell_type": "code",
   "execution_count": 2,
   "metadata": {},
   "outputs": [],
   "source": [
    "# Library untuk HMM\n",
    "# Cara install pip install hmmlearn==0.2.2\n",
    "from hmmlearn import hmm\n",
    "import numpy as np\n",
    "model = hmm.MultinomialHMM(n_components=2)\n",
    "model.startprob_ = np.array([0.6, 0.4])\n",
    "model.transmat_ = np.array([[0.7, 0.3], [0.4, 0.6]])\n",
    "model.emissionprob_ = np.array([[0.1, 0.4, 0.5], [0.6, 0.3, 0.1]])"
   ]
  },
  {
   "cell_type": "markdown",
   "metadata": {},
   "source": [
    "### 3. Menyelesaikan permasalahan 1 dari HMM (Probability dari suatu obervasi)\n",
    "Given a known model what is the likelihood of sequence O happening?\n",
    "\n",
    "The probability of the first observation being “Walk” equals to the multiplication of the initial state distribution and emission probability matrix.\n",
    "0.6 x 0.1 + 0.4 x 0.6 = 0.30 (30%). \n",
    "\n",
    "The log likelihood is provided from calling .score.\n",
    "catatan {'walk', 'shop','clean' }"
   ]
  },
  {
   "cell_type": "code",
   "execution_count": 3,
   "metadata": {},
   "outputs": [
    {
     "data": {
      "text/plain": [
       "0.30000000000000004"
      ]
     },
     "execution_count": 3,
     "metadata": {},
     "output_type": "execute_result"
    }
   ],
   "source": [
    "# Kasus untuk initial state #\n",
    "# contoh untuk observasi 'walk' \n",
    "# peluang dari model jika observasi adalah 'walk'\n",
    "# 0.6 x 0.1 + 0.4 x 0.6 = 0.30 (30%)\n",
    "import math \n",
    "math.exp(model.score(np.array([[0]])))"
   ]
  },
  {
   "cell_type": "code",
   "execution_count": 4,
   "metadata": {},
   "outputs": [
    {
     "data": {
      "text/plain": [
       "0.36000000000000004"
      ]
     },
     "execution_count": 4,
     "metadata": {},
     "output_type": "execute_result"
    }
   ],
   "source": [
    "# contoh untuk observasi 'shop' \n",
    "# peluang dari model jika observasi adalah 'shop'\n",
    "# 0.6 x 0.4 + 0.4 x 0.3 = (36%)\n",
    "math.exp(model.score(np.array([[1]])))"
   ]
  },
  {
   "cell_type": "code",
   "execution_count": 5,
   "metadata": {},
   "outputs": [
    {
     "data": {
      "text/plain": [
       "0.3400000000000001"
      ]
     },
     "execution_count": 5,
     "metadata": {},
     "output_type": "execute_result"
    }
   ],
   "source": [
    "# contoh untuk observasi 'clean' \n",
    "# peluang dari model jika observasi adalah 'clean'\n",
    "# 0.6 x 0.5 + 0.4 x 0.1 = (34%)\n",
    "math.exp(model.score(np.array([[2]])))"
   ]
  },
  {
   "cell_type": "code",
   "execution_count": 6,
   "metadata": {},
   "outputs": [
    {
     "data": {
      "text/plain": [
       "0.1244"
      ]
     },
     "execution_count": 6,
     "metadata": {},
     "output_type": "execute_result"
    }
   ],
   "source": [
    "# contoh untuk observasi {'clean', 'clean'} \n",
    "# peluang dari model jika observasi {'clean', 'clean'} adalah\n",
    "math.exp(model.score(np.array([[2,2]])))"
   ]
  },
  {
   "cell_type": "markdown",
   "metadata": {},
   "source": [
    "### 4. Menyelesaikan permasalahan 2 dari HMM dengan viterbi algorithm (menentukan state optimal dari suatu observasi)"
   ]
  },
  {
   "cell_type": "code",
   "execution_count": 7,
   "metadata": {},
   "outputs": [
    {
     "name": "stdout",
     "output_type": "stream",
     "text": [
      "0.015120000000000003\n",
      "[0 0 1]\n"
     ]
    }
   ],
   "source": [
    "#==== HMM decode dengan algoritma viterbi di dalamnya ======#\n",
    "logprob, seq = model.decode(np.array([[1,2,0]]).transpose())\n",
    "print(math.exp(logprob))\n",
    "print(seq)"
   ]
  },
  {
   "cell_type": "code",
   "execution_count": 8,
   "metadata": {},
   "outputs": [
    {
     "name": "stdout",
     "output_type": "stream",
     "text": [
      "0.03674999999999999\n",
      "[0 0 0]\n"
     ]
    }
   ],
   "source": [
    "logprob, seq = model.decode(np.array([[2,2,2]]).transpose())\n",
    "print(math.exp(logprob))\n",
    "print(seq)"
   ]
  },
  {
   "cell_type": "markdown",
   "metadata": {},
   "source": [
    "# TUGAS PRAKTIKUM"
   ]
  },
  {
   "cell_type": "markdown",
   "metadata": {},
   "source": [
    "1. Hitung peluang dari model jika observasi {'clean', 'clean',’walk’, ‘walk’, ‘shop’} dari model yang ada"
   ]
  },
  {
   "cell_type": "code",
   "execution_count": 9,
   "metadata": {},
   "outputs": [
    {
     "data": {
      "text/plain": [
       "0.004082395400000001"
      ]
     },
     "execution_count": 9,
     "metadata": {},
     "output_type": "execute_result"
    }
   ],
   "source": [
    "import math \n",
    "math.exp(model.score(np.array([[0]])))\n",
    "\n",
    "#peluang dari model jika observasi \n",
    "#{'clean', 'clean',’walk’, ‘walk’, ‘shop’} \n",
    "#dari model yang ada adalah\n",
    "math.exp(model.score(np.array([[2,2,0,0,1]])))"
   ]
  },
  {
   "cell_type": "markdown",
   "metadata": {},
   "source": [
    "2. Catat state yang paling baik untuk untuk observasi {'clean', 'clean',’walk’, ‘walk’, ‘shop’} dari model yang ada"
   ]
  },
  {
   "cell_type": "code",
   "execution_count": 10,
   "metadata": {},
   "outputs": [
    {
     "name": "stdout",
     "output_type": "stream",
     "text": [
      "0.001224720000000001\n",
      "[0 0 1 1 1]\n"
     ]
    }
   ],
   "source": [
    "#==== HMM decode dengan algoritma viterbi di dalamnya ======#\n",
    "logprob, seq = model.decode(np.array([[2,2,0,0,1]]).transpose())\n",
    "print(math.exp(logprob))\n",
    "print(seq)"
   ]
  }
 ],
 "metadata": {
  "kernelspec": {
   "display_name": "Python 3",
   "language": "python",
   "name": "python3"
  },
  "language_info": {
   "codemirror_mode": {
    "name": "ipython",
    "version": 3
   },
   "file_extension": ".py",
   "mimetype": "text/x-python",
   "name": "python",
   "nbconvert_exporter": "python",
   "pygments_lexer": "ipython3",
   "version": "3.8.7"
  }
 },
 "nbformat": 4,
 "nbformat_minor": 4
}
