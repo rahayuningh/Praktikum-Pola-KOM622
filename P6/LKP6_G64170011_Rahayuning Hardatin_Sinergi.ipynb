{
 "cells": [
  {
   "cell_type": "markdown",
   "metadata": {},
   "source": [
    "## TUGAS PRAKTIKUM 6"
   ]
  },
  {
   "cell_type": "markdown",
   "metadata": {},
   "source": [
    "1. Buat State Diagram untuk model HMM pada kasus Membawa Payung (DP) dan Tidak Membawa Payung (TP)\n",
    "2. Buat Program dalam Python\n",
    "3. Selesaikan Problem berikut \n",
    "        a. Hitung Nilai Probabiity {TP, TP}\n",
    "        b. Tentukan state optimal untuk {TP,TP,DP,DP,DP}"
   ]
  },
  {
   "cell_type": "markdown",
   "metadata": {},
   "source": [
    "### Mendefinisikan State"
   ]
  },
  {
   "cell_type": "code",
   "execution_count": 3,
   "metadata": {},
   "outputs": [],
   "source": [
    "# Definisi Matrik Transisi (states)\n",
    "states = ('Panas', 'Hujan', 'Berawan')\n",
    "# definisi Matriks Observasi / Matrik emmisi \n",
    "observations = ('DP', 'TP')\n",
    "# definisi Matriks Priority\n",
    "start_probability = {'Panas': 1/3, 'Hujan': 1/3, 'Berawan': 1/3}\n",
    "transition_probability = {\n",
    " 'Panas' : {'Panas': 0.8, 'Hujan': 0.05, 'Berawan': 0.15},\n",
    " 'Hujan' : {'Panas': 0.2, 'Hujan': 0.6, 'Berawan': 0.2} ,\n",
    " 'Berawan' : {'Panas': 0.2, 'Hujan': 0.3, 'Berawan': 0.5},\n",
    " }\n",
    "emission_probability = {\n",
    " 'Panas' : {'DP': 0.1, 'TP': 0.9},\n",
    " 'Hujan' : {'DP': 0.8, 'TP': 0.2} ,\n",
    " 'Berawan' : {'DP': 0.3, 'TP': 0.7},\n",
    " }"
   ]
  },
  {
   "cell_type": "markdown",
   "metadata": {},
   "source": [
    "### Import library dan representasi pada matrik"
   ]
  },
  {
   "cell_type": "code",
   "execution_count": 4,
   "metadata": {},
   "outputs": [],
   "source": [
    "from hmmlearn import hmm\n",
    "import numpy as np\n",
    "model = hmm.MultinomialHMM(n_components=3)\n",
    "model.startprob_ = np.array([1/3, 1/3, 1/3])\n",
    "model.transmat_ = np.array([[0.8, 0.05, 0.15], \n",
    "                            [0.2, 0.6, 0.2],\n",
    "                            [0.2, 0.3, 0.5]\n",
    "                           ])\n",
    "model.emissionprob_ = np.array([[0.1, 0.9], \n",
    "                                [0.8, 0.2],\n",
    "                                [0.3, 0.7]\n",
    "                               ])"
   ]
  },
  {
   "cell_type": "markdown",
   "metadata": {},
   "source": [
    "## Penyelesaian Problem\n",
    "\n",
    "a. Hitung Nilai Probability {TP, TP}"
   ]
  },
  {
   "cell_type": "code",
   "execution_count": 5,
   "metadata": {},
   "outputs": [
    {
     "data": {
      "text/plain": [
       "0.4174999999999999"
      ]
     },
     "execution_count": 5,
     "metadata": {},
     "output_type": "execute_result"
    }
   ],
   "source": [
    "import math \n",
    "math.exp(model.score(np.array([[0]])))\n",
    "\n",
    "#peluang dari model jika observasi {'TP', 'TP'}\n",
    "math.exp(model.score(np.array([[1,1]])))"
   ]
  },
  {
   "cell_type": "markdown",
   "metadata": {},
   "source": [
    "b. Tentukan state optimal untuk {TP,TP,DP,DP,DP}"
   ]
  },
  {
   "cell_type": "code",
   "execution_count": 6,
   "metadata": {},
   "outputs": [
    {
     "name": "stdout",
     "output_type": "stream",
     "text": [
      "0.00451584\n",
      "[2 2 1 1 1]\n"
     ]
    }
   ],
   "source": [
    "#==== HMM decode dengan algoritma viterbi di dalamnya ======#\n",
    "logprob, seq = model.decode(np.array([[1,1,0,0,0]]).transpose())\n",
    "print(math.exp(logprob))\n",
    "print(seq)"
   ]
  }
 ],
 "metadata": {
  "kernelspec": {
   "display_name": "Python 3",
   "language": "python",
   "name": "python3"
  },
  "language_info": {
   "codemirror_mode": {
    "name": "ipython",
    "version": 3
   },
   "file_extension": ".py",
   "mimetype": "text/x-python",
   "name": "python",
   "nbconvert_exporter": "python",
   "pygments_lexer": "ipython3",
   "version": "3.8.7"
  }
 },
 "nbformat": 4,
 "nbformat_minor": 4
}
