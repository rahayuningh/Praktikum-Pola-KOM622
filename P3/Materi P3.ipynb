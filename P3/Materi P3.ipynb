{
 "cells": [
  {
   "cell_type": "markdown",
   "metadata": {},
   "source": [
    "## 1. Vektor\n",
    "\n",
    "Deklarasi variabel diawali dengan\n",
    "Vektor dapat dituliskan dengan dan tanpa bantuan libarary "
   ]
  },
  {
   "cell_type": "code",
   "execution_count": 1,
   "metadata": {},
   "outputs": [
    {
     "name": "stdout",
     "output_type": "stream",
     "text": [
      "vektor default python\n",
      "\n",
      " \n",
      " vektor via numpy \n",
      "\n",
      "[ 1  2  3  4  5  6  7  8  9 10 11 12 13 14 15 16 17 18 19]\n",
      "[ 1  3  5  7  9 11 13 15 17 19]\n",
      "1\n",
      "(19,)\n"
     ]
    }
   ],
   "source": [
    "# vektor python numpy with range value\n",
    "import numpy as np\n",
    "print(\"vektor default python\\n\")\n",
    "a = np.arange(1,20,1)\n",
    "b = np.arange(1,20,2)\n",
    "import numpy as np\n",
    "print (\" \\n vektor via numpy \\n\")\n",
    "# vektor via numpy \n",
    "c = np.array ([1,2,3,4,5])\n",
    "d = np.array ([1.5, 2.5, 5, 6, 7])\n",
    "print(a)\n",
    "print(b)\n",
    "print(a.ndim)\n",
    "print(a.shape)\n"
   ]
  },
  {
   "cell_type": "markdown",
   "metadata": {},
   "source": [
    "## 2. Matrix\n",
    "Matriks adalah basic 2D table dari data dan dapat berisi nilai numerik dan/atau karakter. \n",
    "Dapat dibuat dengan cara sederhana dengan membuat urutan dari vektor, mengubah dari vektor atau membaca dari file  "
   ]
  },
  {
   "cell_type": "code",
   "execution_count": 2,
   "metadata": {},
   "outputs": [
    {
     "name": "stdout",
     "output_type": "stream",
     "text": [
      "[[ 1  2  3  4  5]\n",
      " [ 6  7  8  9 10]\n",
      " [11 12 13 14 15]\n",
      " [16 17 18 19 20]]\n"
     ]
    }
   ],
   "source": [
    "# mengubah dari 1D menjadi matrik 2D \n",
    "a = np.arange(1,21,1)\n",
    "c = a.reshape((4,5))\n",
    "print(c)"
   ]
  },
  {
   "cell_type": "markdown",
   "metadata": {},
   "source": [
    "## 3. List\n",
    "List merupakan merupakan representasi struktur data yang dapat menyimpan data dengan nilai numerik, karakter, dan lain-lain secara bersamaan\n"
   ]
  },
  {
   "cell_type": "code",
   "execution_count": 3,
   "metadata": {},
   "outputs": [
    {
     "name": "stdout",
     "output_type": "stream",
     "text": [
      "['apple', 'banana', 'cherry']\n"
     ]
    }
   ],
   "source": [
    "list1 = [\"apple\", \"banana\", \"cherry\"]\n",
    "list2 = [1, 5, 7, 9, 3]\n",
    "list3 = [True, False, False]\n",
    "list4 = [\"abc\", 34, True, 40, \"male\"]\n",
    "print(list1); "
   ]
  },
  {
   "cell_type": "markdown",
   "metadata": {},
   "source": [
    "## 4. data.Frame\n",
    "Data frame adalah spesialisasi dari tipe list untuk menyimpan vektor ke dalam bentuk \n",
    "frame (menyerupai basis data). Kelebihan dibandingkan matriks adalah dapat \n",
    "dimanipulasi dalam berbagai bentuk dan cara."
   ]
  },
  {
   "cell_type": "code",
   "execution_count": 4,
   "metadata": {},
   "outputs": [
    {
     "name": "stdout",
     "output_type": "stream",
     "text": [
      "   a  b  c\n",
      "0  1  2  3\n",
      "1  4  5  6\n",
      "2  7  8  9\n"
     ]
    }
   ],
   "source": [
    "#data frame\n",
    "import pandas as pd\n",
    "df = pd.DataFrame(np.array([[1, 2, 3], [4, 5, 6], [7, 8, 9]]),\n",
    "                  columns=['a', 'b', 'c'])\n",
    "print(df)"
   ]
  }
 ],
 "metadata": {
  "kernelspec": {
   "display_name": "Python 3",
   "language": "python",
   "name": "python3"
  },
  "language_info": {
   "codemirror_mode": {
    "name": "ipython",
    "version": 3
   },
   "file_extension": ".py",
   "mimetype": "text/x-python",
   "name": "python",
   "nbconvert_exporter": "python",
   "pygments_lexer": "ipython3",
   "version": "3.8.7"
  }
 },
 "nbformat": 4,
 "nbformat_minor": 4
}
