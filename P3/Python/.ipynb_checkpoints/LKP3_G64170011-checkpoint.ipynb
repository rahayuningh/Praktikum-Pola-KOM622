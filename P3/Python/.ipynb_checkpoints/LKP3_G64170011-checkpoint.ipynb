{
 "cells": [
  {
   "cell_type": "code",
   "execution_count": null,
   "metadata": {},
   "outputs": [],
   "source": [
    "1. Vektor\n",
    "Deklarasi variabel diawali dengan\n",
    "Vektor dapat dituliskan dengan dan tanpa bantuan libarary \n",
    "# vektor python numpy with range value\n",
    "import numpy as np\n",
    "print(\"vektor default python\\n\")\n",
    "a = np.arange(1,20,1)\n",
    "b = np.arange(1,20,2)\n",
    "import numpy as np\n",
    "print (\" \\n vektor via numpy \\n\")\n",
    "# vektor via numpy \n",
    "c = np.array ([1,2,3,4,5])\n",
    "d = np.array ([1.5, 2.5, 5, 6, 7])\n",
    "print(a)\n",
    "print(b)\n",
    "print(a.ndim)\n",
    "print(a.shape)\n"
   ]
  }
 ],
 "metadata": {
  "kernelspec": {
   "display_name": "Python 3",
   "language": "python",
   "name": "python3"
  },
  "language_info": {
   "codemirror_mode": {
    "name": "ipython",
    "version": 3
   },
   "file_extension": ".py",
   "mimetype": "text/x-python",
   "name": "python",
   "nbconvert_exporter": "python",
   "pygments_lexer": "ipython3",
   "version": "3.8.7"
  }
 },
 "nbformat": 4,
 "nbformat_minor": 4
}
